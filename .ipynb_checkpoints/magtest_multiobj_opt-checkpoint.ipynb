{
 "cells": [
  {
   "cell_type": "markdown",
   "id": "7674da46",
   "metadata": {},
   "source": [
    "## Goal: test multi-objective optimization"
   ]
  },
  {
   "cell_type": "markdown",
   "id": "426f7e2f",
   "metadata": {},
   "source": [
    "### 2 ring multi-objective: successful optimization for field strength!"
   ]
  },
  {
   "cell_type": "code",
   "execution_count": 21,
   "id": "f7671668",
   "metadata": {},
   "outputs": [
    {
     "name": "stdout",
     "output_type": "stream",
     "text": [
      "Optimization terminated successfully.\n",
      "         Current function value: -6.043279\n",
      "         Iterations: 150\n",
      "         Function evaluations: 319\n",
      "       message: Optimization terminated successfully.\n",
      "       success: True\n",
      "        status: 0\n",
      "           fun: -6.043279411155146\n",
      "             x: [ 1.370e+01  2.625e+02]\n",
      "           nit: 150\n",
      "          nfev: 319\n",
      " final_simplex: (array([[ 1.370e+01,  2.625e+02],\n",
      "                       [ 1.370e+01,  2.625e+02],\n",
      "                       [ 1.370e+01,  2.625e+02]]), array([-6.043e+00, -6.043e+00, -6.043e+00]))\n"
     ]
    }
   ],
   "source": [
    "import numpy as np\n",
    "from scipy.optimize import minimize, Bounds\n",
    "from maghelper import get_field_on_axes, get_nonuniformity, make_flux_stream, centered_sweep_range, get_grid_nonuniformity, make_grid\n",
    "from maggeometry import two_rings\n",
    "import magpylib as magpy\n",
    "\n",
    "x_base = [150, 10]\n",
    "field_strength_target = 10 #Gauss\n",
    "\n",
    "Br = 1.09e3\n",
    "grid_res = 101\n",
    "grid = make_grid([-10, 10], [-10, 10], grid_res)\n",
    "def nonuniformity(x):\n",
    "    innerrad, width = x_base\n",
    "    thickness, dist = x\n",
    "    magnets = two_rings(Br, innerrad, width, thickness, dist)\n",
    "    grid_field, center_field, av_nonuniformity, max_abs_nonuniformity = get_grid_nonuniformity(magnets, grid, grid_res)\n",
    "    return av_nonuniformity\n",
    "\n",
    "def strength_and_nonuniformity(x):\n",
    "    innerrad, width = x_base\n",
    "    thickness, dist = x\n",
    "    magnets = two_rings(Br, innerrad, width, thickness, dist)\n",
    "    grid_field, center_field, av_nonuniformity, max_abs_nonuniformity = get_grid_nonuniformity(magnets, grid, grid_res)\n",
    "    cost = np.log10(av_nonuniformity) + abs(center_field - field_strength_target)\n",
    "    return cost\n",
    "\n",
    "# innerrad, width, thickness, dist\n",
    "bounds = ((2, 20), (1, 300))\n",
    "x0 = [2, 2.62805985e+02]\n",
    "options = {'disp':True, 'fatol': 5e-17}\n",
    "# options = {'disp':True}\n",
    "method = \"Nelder-Mead\"\n",
    "res = minimize(strength_and_nonuniformity, x0, method=method, options=options, bounds=bounds)\n",
    "# res = minimize(nonuniformity, x0, method=method, options=options, bounds=bounds)\n",
    "print(res)"
   ]
  },
  {
   "cell_type": "code",
   "execution_count": 22,
   "id": "13a6566a",
   "metadata": {},
   "outputs": [
    {
     "name": "stdout",
     "output_type": "stream",
     "text": [
      "9.05150052212399e-07\n",
      "10.00000000804187\n"
     ]
    }
   ],
   "source": [
    "print(nonuniformity(res.x))\n",
    "innerrad, width = x_base\n",
    "thickness, dist = res.x\n",
    "magnets = two_rings(Br, innerrad, width, thickness, dist)\n",
    "grid_field, center_field, av_nonuniformity, max_abs_nonuniformity = get_grid_nonuniformity(magnets, grid, grid_res)\n",
    "print(center_field)"
   ]
  },
  {
   "cell_type": "markdown",
   "id": "a855b39b",
   "metadata": {},
   "source": [
    "### 3 ring multiobjective test"
   ]
  },
  {
   "cell_type": "code",
   "execution_count": null,
   "id": "0de44481",
   "metadata": {},
   "outputs": [],
   "source": [
    "import numpy as np\n",
    "from scipy.optimize import minimize, Bounds\n",
    "from maghelper import get_field_on_axes, get_nonuniformity, make_flux_stream, centered_sweep_range, get_grid_nonuniformity, make_grid\n",
    "from maggeometry import two_rings, three_rings\n",
    "import magpylib as magpy\n",
    "\n",
    "x0 = [1.50000000e+02, 1.39848097e+02, 1.99851214e+01, 1.99624362e+01, 9.00538433e+01]\n",
    "field_strength_target = 10 #Gauss\n",
    "\n",
    "Br = 1.09e3\n",
    "grid_res = 101\n",
    "grid = make_grid([-10, 10], [-10, 10], grid_res)\n",
    "\n",
    "def nonuniformity(x):\n",
    "    innerrad1, innerrad2, width, thickness, dist = x\n",
    "    magnets = three_rings(Br, innerrad1, innerrad2, width, thickness, dist)\n",
    "    grid_field, center_field, av_nonuniformity, max_abs_nonuniformity = get_grid_nonuniformity(magnets, grid, grid_res)\n",
    "    cost = np.log10(av_nonuniformity) + abs(center_field - field_strength_target)\n",
    "    return av_nonuniformity\n",
    "\n",
    "def strength_and_nonuniformity(x):\n",
    "    innerrad1, innerrad2, width, thickness, dist = x\n",
    "    magnets = three_rings(Br, innerrad1, innerrad2, width, thickness, dist)\n",
    "    grid_field, center_field, av_nonuniformity, max_abs_nonuniformity = get_grid_nonuniformity(magnets, grid, grid_res)\n",
    "    cost = np.log10(av_nonuniformity) + abs(center_field - field_strength_target)\n",
    "    return cost\n",
    "\n",
    "bounds = ((1, 150), (1, 150), (2, 20), (2, 20), (1, 300))\n",
    "options = {'disp':True, 'fatol': 5e-17}\n",
    "method = \"Nelder-Mead\"\n",
    "res = minimize(strength_and_nonuniformity, x0, method=method, options=options, bounds=bounds)\n",
    "print(res)"
   ]
  },
  {
   "cell_type": "code",
   "execution_count": 29,
   "id": "85edfa59",
   "metadata": {},
   "outputs": [
    {
     "ename": "ValueError",
     "evalue": "not enough values to unpack (expected 6, got 5)",
     "output_type": "error",
     "traceback": [
      "\u001b[0;31m---------------------------------------------------------------------------\u001b[0m",
      "\u001b[0;31mValueError\u001b[0m                                Traceback (most recent call last)",
      "Cell \u001b[0;32mIn[29], line 1\u001b[0m\n\u001b[0;32m----> 1\u001b[0m \u001b[38;5;28mprint\u001b[39m(\u001b[43mnonuniformity\u001b[49m\u001b[43m(\u001b[49m\u001b[43mres\u001b[49m\u001b[38;5;241;43m.\u001b[39;49m\u001b[43mx\u001b[49m\u001b[43m)\u001b[49m)\n\u001b[1;32m      2\u001b[0m innerrad1, innerrad2, width, thickness, dist1, dist2 \u001b[38;5;241m=\u001b[39m res\u001b[38;5;241m.\u001b[39mx\n\u001b[1;32m      3\u001b[0m magnets \u001b[38;5;241m=\u001b[39m three_rings(Br, innerrad1, innerrad2, width, thickness, dist1, dist2)\n",
      "Cell \u001b[0;32mIn[23], line 15\u001b[0m, in \u001b[0;36mnonuniformity\u001b[0;34m(x)\u001b[0m\n\u001b[1;32m     14\u001b[0m \u001b[38;5;28;01mdef\u001b[39;00m \u001b[38;5;21mnonuniformity\u001b[39m(x):\n\u001b[0;32m---> 15\u001b[0m     innerrad1, innerrad2, width, thickness, dist1, dist2 \u001b[38;5;241m=\u001b[39m x\n\u001b[1;32m     16\u001b[0m     magnets \u001b[38;5;241m=\u001b[39m four_rings(Br, innerrad1, innerrad2, width, thickness, dist1, dist2)\n\u001b[1;32m     17\u001b[0m     grid_field, center_field, av_nonuniformity, max_abs_nonuniformity \u001b[38;5;241m=\u001b[39m get_grid_nonuniformity(magnets, grid, grid_res)\n",
      "\u001b[0;31mValueError\u001b[0m: not enough values to unpack (expected 6, got 5)"
     ]
    }
   ],
   "source": [
    "print(nonuniformity(res.x))\n",
    "innerrad1, innerrad2, width, thickness, dist = res.x\n",
    "magnets = three_rings(Br, innerrad1, innerrad2, width, thickness, dist)\n",
    "grid_field, center_field, av_nonuniformity, max_abs_nonuniformity = get_grid_nonuniformity(magnets, grid, grid_res)\n",
    "print(center_field)"
   ]
  },
  {
   "cell_type": "markdown",
   "id": "c7d1a05b",
   "metadata": {},
   "source": [
    "### 4 ring multiobjective test"
   ]
  },
  {
   "cell_type": "code",
   "execution_count": 23,
   "id": "75403028",
   "metadata": {},
   "outputs": [
    {
     "name": "stdout",
     "output_type": "stream",
     "text": [
      "Optimization terminated successfully.\n",
      "         Current function value: -8.973462\n",
      "         Iterations: 288\n",
      "         Function evaluations: 674\n",
      "       message: Optimization terminated successfully.\n",
      "       success: True\n",
      "        status: 0\n",
      "           fun: -8.97346230620897\n",
      "             x: [ 1.444e+02  5.111e+01  1.994e+01  2.102e+00  1.557e+02\n",
      "                  1.831e+02]\n",
      "           nit: 288\n",
      "          nfev: 674\n",
      " final_simplex: (array([[ 1.444e+02,  5.111e+01, ...,  1.557e+02,\n",
      "                         1.831e+02],\n",
      "                       [ 1.444e+02,  5.111e+01, ...,  1.557e+02,\n",
      "                         1.831e+02],\n",
      "                       ...,\n",
      "                       [ 1.444e+02,  5.111e+01, ...,  1.557e+02,\n",
      "                         1.831e+02],\n",
      "                       [ 1.444e+02,  5.111e+01, ...,  1.557e+02,\n",
      "                         1.831e+02]]), array([-8.973e+00, -8.973e+00, -8.973e+00, -8.973e+00,\n",
      "                       -8.973e+00, -8.973e+00, -8.973e+00]))\n"
     ]
    }
   ],
   "source": [
    "import numpy as np\n",
    "from scipy.optimize import minimize, Bounds\n",
    "from maghelper import get_field_on_axes, get_nonuniformity, make_flux_stream, centered_sweep_range, get_grid_nonuniformity, make_grid\n",
    "from maggeometry import four_rings\n",
    "import magpylib as magpy\n",
    "from magpylib.magnet import CylinderSegment\n",
    "from alive_progress import alive_bar\n",
    "\n",
    "Br = 1.09e3\n",
    "grid_res = 101\n",
    "grid = make_grid([-10, 10], [-10, 10], grid_res)\n",
    "\n",
    "# cost function\n",
    "def nonuniformity(x):\n",
    "    innerrad1, innerrad2, width, thickness, dist1, dist2 = x\n",
    "    magnets = four_rings(Br, innerrad1, innerrad2, width, thickness, dist1, dist2)\n",
    "    grid_field, center_field, av_nonuniformity, max_abs_nonuniformity = get_grid_nonuniformity(magnets, grid, grid_res)\n",
    "    return av_nonuniformity\n",
    "\n",
    "def strength_and_nonuniformity(x):\n",
    "    innerrad1, innerrad2, width, thickness, dist1, dist2 = x\n",
    "    magnets = four_rings(Br, innerrad1, innerrad2, width, thickness, dist1, dist2)\n",
    "    grid_field, center_field, av_nonuniformity, max_abs_nonuniformity = get_grid_nonuniformity(magnets, grid, grid_res)\n",
    "    cost = np.log10(av_nonuniformity) + abs(center_field - field_strength_target)\n",
    "    return cost\n",
    "\n",
    "# innerrad, width, thickness, dist\n",
    "# bounds = ([1, 2, 2, 1], [150, 10, 20, 300])\n",
    "bounds = ((1, 150), (1, 150), (2, 20), (2, 20), (1, 300), (1, 300))\n",
    "options = {'disp':True, 'fatol': 5e-17}\n",
    "method = \"Nelder-Mead\"\n",
    "x0 = [144.38226051, 51.11048466, 19.94272085, 2, 155.70613803, 183.10542199]\n",
    "\n",
    "res = minimize(strength_and_nonuniformity, x0, method=method, options=options, bounds=bounds)\n",
    "# res = minimize(nonuniformity, x0, method=method, options=options, bounds=bounds)\n",
    "print(res)"
   ]
  },
  {
   "cell_type": "code",
   "execution_count": 24,
   "id": "dd663f27",
   "metadata": {},
   "outputs": [
    {
     "name": "stdout",
     "output_type": "stream",
     "text": [
      "1.0630078269114723e-09\n",
      "9.999998768448117\n"
     ]
    }
   ],
   "source": [
    "print(nonuniformity(res.x))\n",
    "innerrad1, innerrad2, width, thickness, dist1, dist2 = res.x\n",
    "magnets = four_rings(Br, innerrad1, innerrad2, width, thickness, dist1, dist2)\n",
    "grid_field, center_field, av_nonuniformity, max_abs_nonuniformity = get_grid_nonuniformity(magnets, grid, grid_res)\n",
    "print(center_field)"
   ]
  },
  {
   "cell_type": "code",
   "execution_count": null,
   "id": "25220962",
   "metadata": {},
   "outputs": [],
   "source": []
  }
 ],
 "metadata": {
  "kernelspec": {
   "display_name": "Python 3 (ipykernel)",
   "language": "python",
   "name": "python3"
  },
  "language_info": {
   "codemirror_mode": {
    "name": "ipython",
    "version": 3
   },
   "file_extension": ".py",
   "mimetype": "text/x-python",
   "name": "python",
   "nbconvert_exporter": "python",
   "pygments_lexer": "ipython3",
   "version": "3.11.3"
  }
 },
 "nbformat": 4,
 "nbformat_minor": 5
}
